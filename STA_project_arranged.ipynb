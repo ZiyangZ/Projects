{
  "nbformat": 4,
  "nbformat_minor": 0,
  "metadata": {
    "colab": {
      "name": "STA project arranged.ipynb",
      "version": "0.3.2",
      "provenance": [],
      "collapsed_sections": [
        "63UhHL-UFXJ1",
        "n5MZzRvog7zs",
        "jhYFnNgzhO1Z",
        "5YDHHgs_DLKI",
        "D3ytNuwGLDZD",
        "U5UuFz2NhxFz"
      ]
    },
    "kernelspec": {
      "name": "python3",
      "display_name": "Python 3"
    }
  },
  "cells": [
    {
      "metadata": {
        "id": "gB46cWPHbFpc",
        "colab_type": "code",
        "colab": {}
      },
      "cell_type": "code",
      "source": [
        "from math import sqrt\n",
        "from numpy import concatenate\n",
        "from pandas import read_csv\n",
        "from pandas import DataFrame\n",
        "from pandas import concat\n",
        "from xgboost import XGBClassifier\n",
        "from sklearn.preprocessing import MinMaxScaler\n",
        "from sklearn.preprocessing import LabelEncoder\n",
        "from sklearn.metrics import mean_squared_error\n",
        "from sklearn.metrics import accuracy_score\n",
        "from sklearn.metrics import classification_report, confusion_matrix\n",
        "from sklearn.preprocessing import LabelEncoder\n",
        "from sklearn.model_selection import GridSearchCV\n",
        "from sklearn.ensemble import RandomForestClassifier\n",
        "from sklearn.model_selection import train_test_split\n",
        "from sklearn import preprocessing\n",
        "from sklearn import svm\n",
        "from keras.models import Sequential\n",
        "from keras.layers import Dense\n",
        "from keras.layers import LSTM\n",
        "import pandas as pd\n",
        "import io\n",
        "import numpy as np"
      ],
      "execution_count": 0,
      "outputs": []
    },
    {
      "metadata": {
        "id": "PN27S88_iAF_",
        "colab_type": "code",
        "colab": {}
      },
      "cell_type": "code",
      "source": [
        "from google.colab import drive\n",
        "drive.mount('/content/drive/')"
      ],
      "execution_count": 0,
      "outputs": []
    },
    {
      "metadata": {
        "id": "63UhHL-UFXJ1",
        "colab_type": "text"
      },
      "cell_type": "markdown",
      "source": [
        "##Without Feature Engineering and Hyperparameter Tuning"
      ]
    },
    {
      "metadata": {
        "id": "C2YxeB0OSXtb",
        "colab_type": "code",
        "colab": {}
      },
      "cell_type": "code",
      "source": [
        "#rf without feature engineering\n",
        "df = pd.read_csv('/content/drive/My Drive/Colab Notebooks/Rain_Sydney.csv')\n",
        "df = df.drop(columns=['Date','WindGustDir', 'WindGustSpeed', 'Cloud3pm','Cloud9am','RISK_MM'],axis=1)\n",
        "df['RainToday'].replace({'No': 0, 'Yes': 1},inplace = True)\n",
        "df['RainTomorrow'].replace({'No': 0, 'Yes': 1},inplace = True)\n",
        "\n",
        "numerical = [var for var in df.columns if df[var].dtype!='O']#find all numerical columns\n",
        "\n",
        "for col in numerical:\n",
        "  df[col] = df[col].fillna(df[col].median())\n",
        "  \n",
        "df['WindDir9am'] = df['WindDir9am'].fillna(df['WindDir9am'].mode().iloc[0])\n",
        "df['WindDir3pm'] = df['WindDir3pm'].fillna(df['WindDir3pm'].mode().iloc[0])\n",
        "\n",
        "encode = LabelEncoder()\n",
        "\n",
        "encode.fit(['E','ENE','ESE','N','NA','NE','NNE','NNW','NW','S','SE','SSE','SSW','SW','W','WNW','WSW'])\n",
        "df['WindDir9am'] = encode.transform(df['WindDir9am'])\n",
        "\n",
        "encode.fit(['E','ENE','ESE','N','NA','NE','NNE','NNW','NW','S','SE','SSE','SSW','SW','W','WNW','WSW'])\n",
        "df['WindDir3pm'] = encode.transform(df['WindDir3pm'])\n",
        "\n",
        "scaler = preprocessing.MinMaxScaler()\n",
        "scaler.fit(df)\n",
        "df = pd.DataFrame(scaler.transform(df), index=df.index, columns=df.columns)\n",
        "\n",
        "X = df.loc[:,dfr.columns!='RainTomorrow']\n",
        "y = df[['RainTomorrow']]\n",
        "\n",
        "X_train,X_test,y_train,y_test = train_test_split(X,y,test_size=0.2)\n",
        "\n",
        "rf = RandomForestClassifier()\n",
        "rf.fit(X_train,y_train)\n",
        "y_pred = rf.predict(X_test).reshape(y_test.shape[0],1)#should be y_test.shape\n",
        "score = accuracy_score(y_test,y_pred)\n",
        "print('Accuracy :',score)\n",
        "print(\"Classification Report:\\n\", classification_report(y_test, y_pred))\n",
        "print(\"Confusion Matrix:\")\n",
        "cm = pd.DataFrame(\n",
        "    confusion_matrix(y_test, y_pred),\n",
        "    index = [['actual', 'actual'], ['0','1']],\n",
        "    columns = [['predicted', 'predicted'], ['0', '1']])\n",
        "print(cm)"
      ],
      "execution_count": 0,
      "outputs": []
    },
    {
      "metadata": {
        "id": "Zfij5fTCTJ2C",
        "colab_type": "code",
        "colab": {}
      },
      "cell_type": "code",
      "source": [
        "#svm without feature engineering\n",
        "df = pd.read_csv('/content/drive/My Drive/Colab Notebooks/Rain_Sydney.csv')\n",
        "df = df.drop(columns=['Date','WindGustDir', 'WindGustSpeed', 'Cloud3pm','Cloud9am','RISK_MM'],axis=1)\n",
        "df['RainToday'].replace({'No': 0, 'Yes': 1},inplace = True)\n",
        "df['RainTomorrow'].replace({'No': 0, 'Yes': 1},inplace = True)\n",
        "\n",
        "numerical = [var for var in df.columns if df[var].dtype!='O']#find all numerical columns\n",
        "\n",
        "for col in numerical:\n",
        "  df[col] = df[col].fillna(df[col].median())\n",
        "  \n",
        "df['WindDir9am'] = df['WindDir9am'].fillna(df['WindDir9am'].mode().iloc[0])\n",
        "df['WindDir3pm'] = df['WindDir3pm'].fillna(df['WindDir3pm'].mode().iloc[0])\n",
        "\n",
        "encode = LabelEncoder()\n",
        "\n",
        "encode.fit(['E','ENE','ESE','N','NA','NE','NNE','NNW','NW','S','SE','SSE','SSW','SW','W','WNW','WSW'])\n",
        "df['WindDir9am'] = encode.transform(df['WindDir9am'])\n",
        "\n",
        "encode.fit(['E','ENE','ESE','N','NA','NE','NNE','NNW','NW','S','SE','SSE','SSW','SW','W','WNW','WSW'])\n",
        "df['WindDir3pm'] = encode.transform(df['WindDir3pm'])\n",
        "\n",
        "scaler = preprocessing.MinMaxScaler()\n",
        "scaler.fit(df)\n",
        "df = pd.DataFrame(scaler.transform(df), index=df.index, columns=df.columns)\n",
        "\n",
        "X = df.loc[:,dfr.columns!='RainTomorrow']\n",
        "y = df[['RainTomorrow']]\n",
        "\n",
        "X_train,X_test,y_train,y_test = train_test_split(X,y,test_size=0.2)\n",
        "\n",
        "from sklearn import svm\n",
        "\n",
        "svc1 = svm.SVC()\n",
        "svc1.fit(X_train,y_train)\n",
        "y_pred = svc1.predict(X_test)\n",
        "score = accuracy_score(y_test,y_pred)\n",
        "print('Accuracy :',score)\n",
        "print(\"Classification Report:\\n\", classification_report(y_test, y_pred))\n",
        "print(\"Confusion Matrix:\")\n",
        "cm = pd.DataFrame(\n",
        "    confusion_matrix(y_test, y_pred),\n",
        "    index = [['actual', 'actual'], ['0','1']],\n",
        "    columns = [['predicted', 'predicted'], ['0', '1']])\n",
        "print(cm)"
      ],
      "execution_count": 0,
      "outputs": []
    },
    {
      "metadata": {
        "id": "JM4ujpHkU_8z",
        "colab_type": "code",
        "colab": {}
      },
      "cell_type": "code",
      "source": [
        "#xgboost without feature engineering\n",
        "df = pd.read_csv('/content/drive/My Drive/Colab Notebooks/Rain_Sydney.csv')\n",
        "df = df.drop(columns=['Date','WindGustDir', 'WindGustSpeed', 'Cloud3pm','Cloud9am','RISK_MM'],axis=1)\n",
        "df['RainToday'].replace({'No': 0, 'Yes': 1},inplace = True)\n",
        "df['RainTomorrow'].replace({'No': 0, 'Yes': 1},inplace = True)\n",
        "\n",
        "numerical = [var for var in df.columns if df[var].dtype!='O']#find all numerical columns\n",
        "\n",
        "for col in numerical:\n",
        "  df[col] = df[col].fillna(df[col].median())\n",
        "  \n",
        "df['WindDir9am'] = df['WindDir9am'].fillna(df['WindDir9am'].mode().iloc[0])\n",
        "df['WindDir3pm'] = df['WindDir3pm'].fillna(df['WindDir3pm'].mode().iloc[0])\n",
        "\n",
        "encode = LabelEncoder()\n",
        "\n",
        "encode.fit(['E','ENE','ESE','N','NA','NE','NNE','NNW','NW','S','SE','SSE','SSW','SW','W','WNW','WSW'])\n",
        "df['WindDir9am'] = encode.transform(df['WindDir9am'])\n",
        "\n",
        "encode.fit(['E','ENE','ESE','N','NA','NE','NNE','NNW','NW','S','SE','SSE','SSW','SW','W','WNW','WSW'])\n",
        "df['WindDir3pm'] = encode.transform(df['WindDir3pm'])\n",
        "\n",
        "scaler = preprocessing.MinMaxScaler()\n",
        "scaler.fit(df)\n",
        "df = pd.DataFrame(scaler.transform(df), index=df.index, columns=df.columns)\n",
        "\n",
        "X = df.loc[:,dfr.columns!='RainTomorrow']\n",
        "y = df[['RainTomorrow']]\n",
        "\n",
        "X_train,X_test,y_train,y_test = train_test_split(X,y,test_size=0.2)\n",
        "\n",
        "from sklearn import svm\n",
        "\n",
        "xgb = XGBClassifier()\n",
        "xgb.fit(X_train, y_train)\n",
        "y_pred = xgb.predict(X_test)\n",
        "score = accuracy_score(y_test,y_pred)\n",
        "print('Accuracy :',score)\n",
        "print(\"Classification Report:\\n\", classification_report(y_test, y_pred))\n",
        "print(\"Confusion Matrix:\")\n",
        "cm = pd.DataFrame(\n",
        "    confusion_matrix(y_test, y_pred),\n",
        "    index = [['actual', 'actual'], ['0','1']],\n",
        "    columns = [['predicted', 'predicted'], ['0', '1']])\n",
        "print(cm)"
      ],
      "execution_count": 0,
      "outputs": []
    },
    {
      "metadata": {
        "id": "n5MZzRvog7zs",
        "colab_type": "text"
      },
      "cell_type": "markdown",
      "source": [
        "##Feature Engineering"
      ]
    },
    {
      "metadata": {
        "id": "GpJenlKeFejV",
        "colab_type": "code",
        "colab": {}
      },
      "cell_type": "code",
      "source": [
        "df = pd.read_csv('/content/drive/My Drive/Colab Notebooks/Rain_Sydney.csv')\n",
        "df = df.drop(columns=['Date','WindGustDir', 'WindGustSpeed', 'Cloud3pm','Cloud9am','RISK_MM'],axis=1)\n",
        "df['RainToday'].replace({'No': 0, 'Yes': 1},inplace = True)\n",
        "df['RainTomorrow'].replace({'No': 0, 'Yes': 1},inplace = True)\n",
        "\n",
        "numerical = [var for var in df.columns if df[var].dtype!='O']#find all numerical columns\n",
        "\n",
        "for col in numerical:\n",
        "  df[col] = df[col].fillna(df[col].median())\n",
        "  \n",
        "df['WindDir9am'] = df['WindDir9am'].fillna(df['WindDir9am'].mode().iloc[0])\n",
        "df['WindDir3pm'] = df['WindDir3pm'].fillna(df['WindDir3pm'].mode().iloc[0])\n",
        "\n",
        "encode = LabelEncoder()\n",
        "\n",
        "encode.fit(['E','ENE','ESE','N','NA','NE','NNE','NNW','NW','S','SE','SSE','SSW','SW','W','WNW','WSW'])\n",
        "df['WindDir9am'] = encode.transform(df['WindDir9am'])\n",
        "\n",
        "encode.fit(['E','ENE','ESE','N','NA','NE','NNE','NNW','NW','S','SE','SSE','SSW','SW','W','WNW','WSW'])\n",
        "df['WindDir3pm'] = encode.transform(df['WindDir3pm'])\n",
        "\n",
        "scaler = preprocessing.MinMaxScaler()\n",
        "scaler.fit(df)\n",
        "df = pd.DataFrame(scaler.transform(df), index=df.index, columns=df.columns)\n",
        "\n",
        "#its time to remove the outliers in our data - we are using Z-score to detect and remove the outliers.\n",
        "from scipy import stats\n",
        "z = np.abs(stats.zscore(df._get_numeric_data()))\n",
        "dfr= df[(z < 3).all(axis=1)]"
      ],
      "execution_count": 0,
      "outputs": []
    },
    {
      "metadata": {
        "id": "bUsl5mHZFivD",
        "colab_type": "code",
        "colab": {}
      },
      "cell_type": "code",
      "source": [
        "from sklearn.feature_selection import SelectKBest, f_classif\n",
        "Xr = dfr.loc[:,dfr.columns!='RainTomorrow']\n",
        "yr = dfr[['RainTomorrow']]\n",
        "selector = SelectKBest(f_classif, k=10)\n",
        "selector.fit(Xr, yr)\n",
        "X_new = selector.transform(Xr)\n",
        "print(Xr.columns[selector.get_support(indices=True)]) #top 10 columns"
      ],
      "execution_count": 0,
      "outputs": []
    },
    {
      "metadata": {
        "id": "R8osPMpDFkgQ",
        "colab_type": "code",
        "colab": {}
      },
      "cell_type": "code",
      "source": [
        "X = dfr[['MinTemp', 'MaxTemp', 'Rainfall', 'Sunshine', 'WindDir9am',\n",
        "       'WindDir3pm', 'Humidity9am', 'Humidity3pm', 'Temp3pm', 'RainToday']]\n",
        "y = dfr[['RainTomorrow']]\n",
        "\n",
        "X_train,X_test,y_train,y_test = train_test_split(X,y,test_size=0.2)"
      ],
      "execution_count": 0,
      "outputs": []
    },
    {
      "metadata": {
        "id": "jwUAFPpGMnmF",
        "colab_type": "code",
        "colab": {}
      },
      "cell_type": "code",
      "source": [
        "print(X_train.shape, X_test.shape, y_train.shape, y_test.shape)"
      ],
      "execution_count": 0,
      "outputs": []
    },
    {
      "metadata": {
        "id": "jhYFnNgzhO1Z",
        "colab_type": "text"
      },
      "cell_type": "markdown",
      "source": [
        "##RF"
      ]
    },
    {
      "metadata": {
        "id": "KdWveSgsFmBd",
        "colab_type": "code",
        "colab": {}
      },
      "cell_type": "code",
      "source": [
        "grid2 = {'n_estimators': [100, 500, 1000],\n",
        "               'max_depth': [4, 5, 10],\n",
        "               'min_samples_leaf': [5, 10, 20]}\n",
        "\n",
        "rf3 = RandomForestClassifier()\n",
        "rf3_grid = GridSearchCV(estimator = rf, param_grid = grid2, \n",
        "                                cv = 5, n_jobs = -1, verbose = 1)\n",
        "rf3_grid.fit(X_train, y_train)\n",
        "rf3_grid.best_params_"
      ],
      "execution_count": 0,
      "outputs": []
    },
    {
      "metadata": {
        "id": "rSxNu_BfFnS-",
        "colab_type": "code",
        "colab": {}
      },
      "cell_type": "code",
      "source": [
        "rf3_final = RandomForestClassifier(n_estimators=500, min_samples_leaf=20, max_depth=5,random_state=10)\n",
        "rf3_final.fit(X_train,y_train)\n",
        "y_pred = rf3_final.predict(X_test).reshape(y_test.shape[0],1)#should be y_test.shape\n",
        "score = accuracy_score(y_test,y_pred)\n",
        "print('Accuracy :',score)\n",
        "print(\"Classification Report:\\n\", classification_report(y_test, y_pred))\n",
        "print(\"Confusion Matrix:\")\n",
        "cm = pd.DataFrame(\n",
        "    confusion_matrix(y_test, y_pred),\n",
        "    index = [['actual', 'actual'], ['0','1']],\n",
        "    columns = [['predicted', 'predicted'], ['0', '1']])\n",
        "print(cm)"
      ],
      "execution_count": 0,
      "outputs": []
    },
    {
      "metadata": {
        "id": "5YDHHgs_DLKI",
        "colab_type": "text"
      },
      "cell_type": "markdown",
      "source": [
        "##xgboost"
      ]
    },
    {
      "metadata": {
        "id": "UfvxwDuxGtXC",
        "colab_type": "code",
        "colab": {}
      },
      "cell_type": "code",
      "source": [
        "grid3 = {'n_estimators': [100, 200, 300],\n",
        "               'max_depth': [2, 3, 4],\n",
        "               'min_child_weight':[1, 2, 3],\n",
        "        'gamma':[0, 0.05, 0.1]}\n",
        "\n",
        "xgb2 = XGBClassifier()\n",
        "xgb2_grid = GridSearchCV(estimator = xgb2, param_grid = grid3, \n",
        "                                cv = 5, n_jobs = -1, verbose = 1)\n",
        "xgb2_grid.fit(X_train, y_train)\n",
        "xgb2_grid.best_params_"
      ],
      "execution_count": 0,
      "outputs": []
    },
    {
      "metadata": {
        "id": "tamWytsPJ6_U",
        "colab_type": "code",
        "colab": {}
      },
      "cell_type": "code",
      "source": [
        "#xgb2_final = XGBClassifier(n_estimators=100, min_child_weight=1, max_depth=3, gamma=0, random_state=10)\n",
        "xgb2_final = XGBClassifier(n_estimators=100, min_child_weight=2, max_depth=2, gamma=0, random_state=10)\n",
        "xgb2_final.fit(X_train,y_train)\n",
        "y_pred = xgb2_final.predict(X_test)\n",
        "score = accuracy_score(y_test,y_pred)\n",
        "print('Accuracy :',score)\n",
        "print(\"Classification Report:\\n\", classification_report(y_test, y_pred))\n",
        "print(\"Confusion Matrix:\")\n",
        "cm = pd.DataFrame(\n",
        "    confusion_matrix(y_test, y_pred),\n",
        "    index = [['actual', 'actual'], ['0','1']],\n",
        "    columns = [['predicted', 'predicted'], ['0', '1']])\n",
        "print(cm)"
      ],
      "execution_count": 0,
      "outputs": []
    },
    {
      "metadata": {
        "id": "D3ytNuwGLDZD",
        "colab_type": "text"
      },
      "cell_type": "markdown",
      "source": [
        "##SVM"
      ]
    },
    {
      "metadata": {
        "id": "ldk3_3jaL-bq",
        "colab_type": "code",
        "colab": {}
      },
      "cell_type": "code",
      "source": [
        "#grid4 = [{'C': [0.1, 1, 10, 100, 1000], 'kernel': ['linear']},\n",
        "#         {'C': [0.1, 1, 10, 100, 1000], 'gamma': [0.001, 0.0001], 'kernel': ['rbf']}]\n",
        "grid4 = [{'kernel': ['rbf'], 'gamma': [1e-2, 1e-3, 1e-4, 1e-5],\n",
        "                     'C': [0.001, 0.10, 0.1, 10, 25, 50, 100, 1000]},\n",
        "                    {'kernel': ['sigmoid'], 'gamma': [1e-2, 1e-3, 1e-4, 1e-5],\n",
        "                     'C': [0.001, 0.10, 0.1, 10, 25, 50, 100, 1000]},\n",
        "                    {'kernel': ['linear'], 'C': [0.001, 0.10, 0.1, 10, 25, 50, 100, 1000]}]\n",
        "svc2 = svm.SVC()\n",
        "svc2_grid = GridSearchCV(estimator = svc2, param_grid = grid4, \n",
        "                                cv = 5, n_jobs = -1, verbose = 1)\n",
        "svc2_grid.fit(X_train, y_train)\n",
        "svc2_grid.best_params_"
      ],
      "execution_count": 0,
      "outputs": []
    },
    {
      "metadata": {
        "id": "-rqi0qlEM8fs",
        "colab_type": "code",
        "colab": {}
      },
      "cell_type": "code",
      "source": [
        "svc2_final = svm.SVC(C=5, kernel = 'rbf', gamma= 0.01, random_state=10)\n",
        "svc2_final.fit(X_train,y_train)\n",
        "y_pred = svc2_final.predict(X_test)\n",
        "score = accuracy_score(y_test,y_pred)\n",
        "print('Accuracy :',score)\n",
        "print(\"Classification Report:\\n\", classification_report(y_test, y_pred))\n",
        "print(\"Confusion Matrix:\")\n",
        "cm = pd.DataFrame(\n",
        "    confusion_matrix(y_test, y_pred),\n",
        "    index = [['actual', 'actual'], ['0','1']],\n",
        "    columns = [['predicted', 'predicted'], ['0', '1']])\n",
        "print(cm)"
      ],
      "execution_count": 0,
      "outputs": []
    },
    {
      "metadata": {
        "id": "U5UuFz2NhxFz",
        "colab_type": "text"
      },
      "cell_type": "markdown",
      "source": [
        "##LSTM"
      ]
    },
    {
      "metadata": {
        "id": "iOmoxMODr2UM",
        "colab_type": "code",
        "colab": {}
      },
      "cell_type": "code",
      "source": [
        "train_X = X_train.values\n",
        "train_y = y_train.values\n",
        "test_X = X_test.values\n",
        "test_y = y_test.values"
      ],
      "execution_count": 0,
      "outputs": []
    },
    {
      "metadata": {
        "id": "H0QS5v4Irxbq",
        "colab_type": "code",
        "colab": {}
      },
      "cell_type": "code",
      "source": [
        "train_Xs = train_X.reshape((train_X.shape[0], 1, 10))\n",
        "test_Xs = test_X.reshape((test_X.shape[0], 1, 10))\n",
        "train_ys = train_y.reshape(train_y.shape[0], 1)\n",
        "test_ys = test_y.reshape(test_y.shape[0], 1)\n",
        "\n",
        "model = Sequential()\n",
        "model.add(LSTM(50, input_shape=(train_Xs.shape[1], train_Xs.shape[2])))\n",
        "model.add(Dense(1))\n",
        "model.compile(loss='binary_crossentropy', optimizer='adam', metrics=['binary_accuracy'])\n",
        "model.fit(train_Xs, train_ys, validation_split = 0.2, epochs=100, batch_size=32, verbose = 1)"
      ],
      "execution_count": 0,
      "outputs": []
    },
    {
      "metadata": {
        "id": "1hR2xxu1tJCj",
        "colab_type": "code",
        "colab": {}
      },
      "cell_type": "code",
      "source": [
        "yhat1 = model.predict(test_Xs)\n",
        "yhat = (yhat1>0.5)\n",
        "score = accuracy_score(test_y,yhat)\n",
        "print('Accuracy :',score)\n",
        "print(\"Classification Report:\\n\", classification_report(test_y,yhat))\n",
        "print(\"Confusion Matrix:\")\n",
        "cm = pd.DataFrame(\n",
        "    confusion_matrix(test_y,yhat),\n",
        "    index = [['actual', 'actual'], ['0','1']],\n",
        "    columns = [['predicted', 'predicted'], ['0', '1']])\n",
        "print(cm)"
      ],
      "execution_count": 0,
      "outputs": []
    }
  ]
}